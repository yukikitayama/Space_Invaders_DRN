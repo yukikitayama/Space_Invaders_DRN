{
  "nbformat": 4,
  "nbformat_minor": 0,
  "metadata": {
    "colab": {
      "name": "space_invaders_deep_q_network.ipynb",
      "provenance": [],
      "collapsed_sections": []
    },
    "kernelspec": {
      "name": "python3",
      "display_name": "Python 3"
    },
    "accelerator": "GPU"
  },
  "cells": [
    {
      "cell_type": "code",
      "metadata": {
        "id": "w_dqV98XW5o3",
        "colab_type": "code",
        "colab": {}
      },
      "source": [
        "## install\n",
        "\n",
        "# !pip install gym[atari]"
      ],
      "execution_count": 0,
      "outputs": []
    },
    {
      "cell_type": "code",
      "metadata": {
        "id": "WAI5r8MXXL5J",
        "colab_type": "code",
        "colab": {}
      },
      "source": [
        "## setup\n",
        "\n",
        "import gym\n",
        "\n",
        "import numpy as np\n",
        "from matplotlib import pyplot as plt\n",
        "import random\n",
        "from IPython.display import clear_output\n",
        "from time import sleep\n",
        "import time\n",
        "import pickle\n",
        "from google.colab import files\n",
        "\n",
        "# neural network\n",
        "from tensorflow.keras.models import Sequential, load_model\n",
        "from tensorflow.keras.layers import Dense, Flatten, Conv2D, MaxPooling2D\n",
        "import tensorflow as tf\n",
        "\n",
        "# video\n",
        "import imageio\n",
        "# embed video to notebook\n",
        "import base64\n",
        "# interactive architecture for jupyter notebook\n",
        "import IPython"
      ],
      "execution_count": 0,
      "outputs": []
    },
    {
      "cell_type": "code",
      "metadata": {
        "id": "vIdheFzxS8FM",
        "colab_type": "code",
        "colab": {}
      },
      "source": [
        "## hyperparameter\n",
        "\n",
        "MAX_STEP = 300\n",
        "MAX_LENGTH_REPLAY = 10000\n",
        "VIDEO_NAME_RANDOM = 'random_agent.mp4'\n",
        "HEIGHT = 210\n",
        "WIDTH = 160\n",
        "CHANNEL = 3\n",
        "N_OUT = 6\n",
        "LEARNING_RATE = 0.001 # learning rate in neural network optimizer\n",
        "GAMMA = 0.99 # discount factor\n",
        "EPSILON = 1.0\n",
        "EPSILON_MIN = 0.1\n",
        "EPSILON_DECAY = 0.999\n",
        "EPSILON_EVAL = 0.01 # epsilon-greedy method in evaluation environment\n",
        "BATCH_SIZE = 32\n",
        "TIME_STEP = 200\n",
        "MODEL_PATH = 'model.h5'\n",
        "FIGURE_PATH = 'dqn_reward.png'\n",
        "REWARD_PATH = 'rewards.sav'\n",
        "VIDEO_PATH = 'dqn_v1.mp4'\n",
        "\n",
        "EPISODES = 10\n",
        "MONITOR_INTERVAL = 1\n",
        "EVAL_STEP = 400\n",
        "EVAL_EPISODES = 1"
      ],
      "execution_count": 0,
      "outputs": []
    },
    {
      "cell_type": "code",
      "metadata": {
        "id": "OrkHQoz_XDhA",
        "colab_type": "code",
        "outputId": "1ff1458c-7942-49a6-9156-b16c3736a862",
        "colab": {
          "base_uri": "https://localhost:8080/",
          "height": 518
        }
      },
      "source": [
        "## environment\n",
        "\n",
        "env = gym.make('SpaceInvaders-v0')\n",
        "env.reset()\n",
        "\n",
        "# show spec\n",
        "# Discrete(6) but action index includes 0, 1, 2, 3, 4, 5\n",
        "print(\"action space\", env.action_space)\n",
        "print(\"meaning of action space\", env.get_action_meanings())\n",
        "print(\"observation space\", env.observation_space)\n",
        "\n",
        "# show environment\n",
        "plt.figure(figsize = (8, 8))\n",
        "plt.imshow(env.render('rgb_array'))\n",
        "plt.axis('off')\n",
        "plt.show()"
      ],
      "execution_count": 46,
      "outputs": [
        {
          "output_type": "stream",
          "text": [
            "action space Discrete(6)\n",
            "meaning of action space ['NOOP', 'FIRE', 'RIGHT', 'LEFT', 'RIGHTFIRE', 'LEFTFIRE']\n",
            "observation space Box(210, 160, 3)\n"
          ],
          "name": "stdout"
        },
        {
          "output_type": "display_data",
          "data": {
            "image/png": "[encoded data removed]",
            "text/plain": [
              "<Figure size 576x576 with 1 Axes>"
            ]
          },
          "metadata": {
            "tags": []
          }
        }
      ]
    },
    {
      "cell_type": "code",
      "metadata": {
        "id": "hp7__8-1TpdV",
        "colab_type": "code",
        "colab": {}
      },
      "source": [
        "## experience replay\n",
        "\n",
        "class Replay:\n",
        "    def __init__(self):\n",
        "        self.buffer = []\n",
        "        self.length = 0\n",
        "        self.max_length = MAX_LENGTH_REPLAY\n",
        "\n",
        "    def write(self, data):\n",
        "        # if replay is full, delete the oldest (first list) and append the new\n",
        "        if self.length >= self.max_length:\n",
        "            self.buffer.pop(0)\n",
        "            self.length -= 1\n",
        "        self.buffer.append(data)\n",
        "        self.length += 1\n",
        "\n",
        "    def read(self, batch_size):\n",
        "        # at beginning buffer is almost empty, so batch is smaller than batch_size\n",
        "        # random.sample is k sample from population without replacement\n",
        "        return random.sample(population = self.buffer, k = min(batch_size, self.length))"
      ],
      "execution_count": 0,
      "outputs": []
    },
    {
      "cell_type": "code",
      "metadata": {
        "id": "eqtZn2a4TplJ",
        "colab_type": "code",
        "colab": {}
      },
      "source": [
        "## network\n",
        "\n",
        "class Network:\n",
        "    def __init__(self, height, width, channel, n_out):\n",
        "        self.height = height\n",
        "        self.width = width\n",
        "        self.channel = channel\n",
        "        self.n_out = n_out\n",
        "\n",
        "    def _build_model(self):\n",
        "        model = Sequential()\n",
        "        model.add(Conv2D(32, (3, 3), padding = 'same', activation = 'relu', input_shape = (self.height, self.width, self.channel,)))\n",
        "        model.add(Conv2D(32, (3, 3), activation = 'relu'))\n",
        "        model.add(MaxPooling2D(pool_size = (2, 2)))\n",
        "        model.add(Flatten())\n",
        "        model.add(Dense(32, activation = 'relu'))\n",
        "        model.add(Dense(self.n_out, activation = 'linear'))\n",
        "        optimizer = tf.keras.optimizers.RMSprop(LEARNING_RATE)\n",
        "        model.compile(loss = 'mse', optimizer = optimizer)\n",
        "        return model"
      ],
      "execution_count": 0,
      "outputs": []
    },
    {
      "cell_type": "code",
      "metadata": {
        "id": "-wZyLfwVFYVB",
        "colab_type": "code",
        "colab": {}
      },
      "source": [
        "## agent\n",
        "\n",
        "class Agent:\n",
        "    def __init__(self):\n",
        "        self.height = HEIGHT\n",
        "        self.width = WIDTH\n",
        "        self.channel = CHANNEL\n",
        "        self.n_out = N_OUT\n",
        "        self.total_reward = 0\n",
        "        self.gamma = GAMMA # discount factor\n",
        "        self.epsilon = EPSILON\n",
        "        self.epsilon_min = EPSILON_MIN\n",
        "        self.epsilon_decay = EPSILON_DECAY\n",
        "        self.batch_size = BATCH_SIZE\n",
        "        self.replay_buffer = Replay()\n",
        "        self.model = Network(self.height, self.width, self.channel, self.n_out)._build_model()\n",
        "\n",
        "    def gather_experience(self, last_state, action, reward, state):\n",
        "        self.replay_buffer.write((last_state, action, reward, state))\n",
        "\n",
        "    def set_total_reward(self, new_total):\n",
        "        self.total_reward = new_total\n",
        "\n",
        "    def gather_reward(self, reward):\n",
        "        self.total_reward += reward\n",
        "\n",
        "    def get_total_reward(self):\n",
        "        return self.total_reward\n",
        "\n",
        "    def decay_epsilon(self):\n",
        "        if self.epsilon > self.epsilon_min:\n",
        "            self.epsilon *= self.epsilon_decay\n",
        "\n",
        "    def reshape_state(self, state):\n",
        "        return np.reshape(state, (-1, self.height, self.width, self.channel))\n",
        "\n",
        "    def choose_action(self, state):\n",
        "        if np.random.rand() > self.epsilon:\n",
        "            state = self.reshape_state(state)\n",
        "            return np.argmax(self.model.predict(state)[0])\n",
        "        else:\n",
        "            return np.random.randint(low = 0, high = self.n_out - 1, size = None, dtype = 'int')\n",
        "\n",
        "    def update_q(self):\n",
        "        batch = self.replay_buffer.read(self.batch_size)\n",
        "        n = len(batch)\n",
        "\n",
        "        x_batch = np.zeros([n, self.height, self.width, self.channel])\n",
        "        y_batch = np.zeros([n, self.n_out])\n",
        "\n",
        "        i = 0\n",
        "\n",
        "        for b in batch:\n",
        "            last_state, action, reward, state = b\n",
        "            last_state = self.reshape_state(last_state)\n",
        "            q_last = self.model.predict(last_state)[0]\n",
        "\n",
        "            if state is None:\n",
        "                q_last[action] = reward\n",
        "            else:\n",
        "                state = self.reshape_state(state)\n",
        "                q_this = self.model.predict(state)[0]\n",
        "                y = reward + self.gamma * np.max(q_this)\n",
        "                q_last[action] = y\n",
        "            \n",
        "            x_batch[i, :] = last_state\n",
        "            y_batch[i, :] = q_last\n",
        "            i + 1\n",
        "        \n",
        "        history = self.model.fit(x_batch, y_batch, epochs = 1, verbose = 0)\n",
        "\n",
        "        return history.history['loss'][0]"
      ],
      "execution_count": 0,
      "outputs": []
    },
    {
      "cell_type": "code",
      "metadata": {
        "id": "5QIH91qt9rRZ",
        "colab_type": "code",
        "colab": {
          "base_uri": "https://localhost:8080/",
          "height": 652
        },
        "outputId": "8cc03c7f-bedc-4020-86be-62f72c326f6a"
      },
      "source": [
        "## training\n",
        "\n",
        "agent = Agent()\n",
        "ep_rewards = []\n",
        "loss = False\n",
        "losses = []\n",
        "start_time = time.time()\n",
        "\n",
        "for ep in range(EPISODES):\n",
        "    last_state = env.reset()\n",
        "    agent.set_total_reward(0)\n",
        "\n",
        "    for t in range(TIME_STEP):\n",
        "        action = agent.choose_action(last_state)\n",
        "        state, reward, done, info = env.step(action)\n",
        "\n",
        "        if done == True:\n",
        "            state = None\n",
        "\n",
        "        agent.gather_reward(reward)\n",
        "        agent.gather_experience(last_state, action, reward, state)\n",
        "\n",
        "        loss = agent.update_q()\n",
        "\n",
        "        last_state = state\n",
        "\n",
        "        if done == True:\n",
        "            ep_rewards.append(agent.get_total_reward())\n",
        "            break\n",
        "\n",
        "    if done == False:\n",
        "        ep_rewards.append(agent.get_total_reward())\n",
        "\n",
        "    if loss:\n",
        "        losses.append(loss)\n",
        "\n",
        "    agent.decay_epsilon()\n",
        "\n",
        "    # monitoring\n",
        "    if ep % MONITOR_INTERVAL == 0:\n",
        "        print(\"episode:{}, reward:{}, epsilon:{}, time:{}\".format(ep, \n",
        "                                                                  agent.get_total_reward(),\n",
        "                                                                  np.round(agent.epsilon, decimals = 5),\n",
        "                                                                  np.round(time.time() - start_time, decimals = 0)))\n",
        "        \n",
        "agent.model.save(MODEL_PATH)\n",
        "\n",
        "episode = range(0, EPISODES, 1)\n",
        "plt.plot(episode, ep_rewards)\n",
        "plt.ylabel(\"total rewards per episode\")\n",
        "plt.xlabel(\"episodes\")\n",
        "plt.title(\"DQN\")\n",
        "plt.savefig(FIGURE_PATH)\n",
        "plt.show()\n",
        "pickle.dump(ep_rewards, open(REWARD_PATH))"
      ],
      "execution_count": 50,
      "outputs": [
        {
          "output_type": "stream",
          "text": [
            "episode:0, reward:40.0, epsilon:0.999, time:32.0\n",
            "episode:1, reward:35.0, epsilon:0.998, time:66.0\n",
            "episode:2, reward:35.0, epsilon:0.997, time:100.0\n",
            "episode:3, reward:65.0, epsilon:0.99601, time:133.0\n",
            "episode:4, reward:50.0, epsilon:0.99501, time:167.0\n",
            "episode:5, reward:35.0, epsilon:0.99401, time:201.0\n",
            "episode:6, reward:45.0, epsilon:0.99302, time:234.0\n",
            "episode:7, reward:60.0, epsilon:0.99203, time:268.0\n",
            "episode:8, reward:25.0, epsilon:0.99104, time:301.0\n",
            "episode:9, reward:20.0, epsilon:0.99004, time:335.0\n"
          ],
          "name": "stdout"
        },
        {
          "output_type": "display_data",
          "data": {
            "image/png": "[encoded data removed]",
            "text/plain": [
              "<Figure size 432x288 with 1 Axes>"
            ]
          },
          "metadata": {
            "tags": []
          }
        },
        {
          "output_type": "error",
          "ename": "FileNotFoundError",
          "evalue": "ignored",
          "traceback": [
            "\u001b[0;31m---------------------------------------------------------------------------\u001b[0m",
            "\u001b[0;31mFileNotFoundError\u001b[0m                         Traceback (most recent call last)",
            "\u001b[0;32m<ipython-input-50-7f204a0de5c3>\u001b[0m in \u001b[0;36m<module>\u001b[0;34m()\u001b[0m\n\u001b[1;32m     52\u001b[0m \u001b[0mplt\u001b[0m\u001b[0;34m.\u001b[0m\u001b[0msavefig\u001b[0m\u001b[0;34m(\u001b[0m\u001b[0mFIGURE_PATH\u001b[0m\u001b[0;34m)\u001b[0m\u001b[0;34m\u001b[0m\u001b[0;34m\u001b[0m\u001b[0m\n\u001b[1;32m     53\u001b[0m \u001b[0mplt\u001b[0m\u001b[0;34m.\u001b[0m\u001b[0mshow\u001b[0m\u001b[0;34m(\u001b[0m\u001b[0;34m)\u001b[0m\u001b[0;34m\u001b[0m\u001b[0;34m\u001b[0m\u001b[0m\n\u001b[0;32m---> 54\u001b[0;31m \u001b[0mpickle\u001b[0m\u001b[0;34m(\u001b[0m\u001b[0mep_rewards\u001b[0m\u001b[0;34m,\u001b[0m \u001b[0mopen\u001b[0m\u001b[0;34m(\u001b[0m\u001b[0mREWARD_PATH\u001b[0m\u001b[0;34m)\u001b[0m\u001b[0;34m)\u001b[0m\u001b[0;34m\u001b[0m\u001b[0;34m\u001b[0m\u001b[0m\n\u001b[0m",
            "\u001b[0;31mFileNotFoundError\u001b[0m: [Errno 2] No such file or directory: 'rewards.sav'"
          ]
        }
      ]
    },
    {
      "cell_type": "code",
      "metadata": {
        "id": "6v8o5R_ILf6B",
        "colab_type": "code",
        "colab": {
          "base_uri": "https://localhost:8080/",
          "height": 558
        },
        "outputId": "f19d2d2c-eac3-4fab-b21c-bec5b766bf18"
      },
      "source": [
        "## evaluation picture story show\n",
        "\n",
        "eval_model = load_model(MODEL_PATH)\n",
        "\n",
        "state = env.reset()\n",
        "\n",
        "for i in range(EVAL_STEP):\n",
        "    clear_output(wait = True)\n",
        "\n",
        "    if np.random.rand() > EPSILON_EVAL:\n",
        "        state = np.reshape(state, (-1, HEIGHT, WIDTH, CHANNEL))\n",
        "        action = np.argmax(eval_model.predict(state)[0])\n",
        "    else:\n",
        "        action = np.random.randint(low = 0, high = N_OUT - 1, size = None, dtype = 'int')\n",
        "\n",
        "    next_state, reward, done, info = env.step(action)\n",
        "    \n",
        "    plt.figure(figsize = (6, 6))\n",
        "    plt.imshow(next_state)\n",
        "    plt.axis('off')\n",
        "\n",
        "    print(\"step:{}, action:{}, reward:{}, done:{}\".format(i, action, reward, done))\n",
        "    plt.show()\n",
        "    sleep(.5)"
      ],
      "execution_count": 55,
      "outputs": [
        {
          "output_type": "stream",
          "text": [
            "step:113, action:5, reward:0.0, done:False\n"
          ],
          "name": "stdout"
        },
        {
          "output_type": "display_data",
          "data": {
            "image/png": "[encoded data removed]",
            "text/plain": [
              "<Figure size 432x432 with 1 Axes>"
            ]
          },
          "metadata": {
            "tags": []
          }
        },
        {
          "output_type": "error",
          "ename": "KeyboardInterrupt",
          "evalue": "ignored",
          "traceback": [
            "\u001b[0;31m---------------------------------------------------------------------------\u001b[0m",
            "\u001b[0;31mKeyboardInterrupt\u001b[0m                         Traceback (most recent call last)",
            "\u001b[0;32m<ipython-input-55-707ffd0c8038>\u001b[0m in \u001b[0;36m<module>\u001b[0;34m()\u001b[0m\n\u001b[1;32m     21\u001b[0m     \u001b[0mprint\u001b[0m\u001b[0;34m(\u001b[0m\u001b[0;34m\"step:{}, action:{}, reward:{}, done:{}\"\u001b[0m\u001b[0;34m.\u001b[0m\u001b[0mformat\u001b[0m\u001b[0;34m(\u001b[0m\u001b[0mi\u001b[0m\u001b[0;34m,\u001b[0m \u001b[0maction\u001b[0m\u001b[0;34m,\u001b[0m \u001b[0mreward\u001b[0m\u001b[0;34m,\u001b[0m \u001b[0mdone\u001b[0m\u001b[0;34m)\u001b[0m\u001b[0;34m)\u001b[0m\u001b[0;34m\u001b[0m\u001b[0;34m\u001b[0m\u001b[0m\n\u001b[1;32m     22\u001b[0m     \u001b[0mplt\u001b[0m\u001b[0;34m.\u001b[0m\u001b[0mshow\u001b[0m\u001b[0;34m(\u001b[0m\u001b[0;34m)\u001b[0m\u001b[0;34m\u001b[0m\u001b[0;34m\u001b[0m\u001b[0m\n\u001b[0;32m---> 23\u001b[0;31m     \u001b[0msleep\u001b[0m\u001b[0;34m(\u001b[0m\u001b[0;36m.5\u001b[0m\u001b[0;34m)\u001b[0m\u001b[0;34m\u001b[0m\u001b[0;34m\u001b[0m\u001b[0m\n\u001b[0m",
            "\u001b[0;31mKeyboardInterrupt\u001b[0m: "
          ]
        }
      ]
    },
    {
      "cell_type": "code",
      "metadata": {
        "id": "N14E8OKmO5fN",
        "colab_type": "code",
        "colab": {
          "base_uri": "https://localhost:8080/",
          "height": 55
        },
        "outputId": "dede5403-f8d6-4e6a-faa9-601598e918fe"
      },
      "source": [
        "## evaluation video\n",
        "\n",
        "\"\"\"\n",
        "this code outputs mp4 file. \n",
        "If you run this in your local PC, video file will be saved in your local directory.\n",
        "If it's Colab, the video file \n",
        "\"\"\"\n",
        "\n",
        "eval_model = load_model(MODEL_PATH)\n",
        "\n",
        "# what's this?\n",
        "fps = 30\n",
        "\n",
        "with imageio.get_writer(VIDEO_PATH, fps = fps) as video:\n",
        "    for _ in range(EVAL_EPISODES):\n",
        "        # initialize\n",
        "        state = env.reset()\n",
        "        done = False\n",
        "        video.append_data(env.render('rgb_array'))\n",
        "        \n",
        "        # start episode\n",
        "        while not done:\n",
        "            if np.random.rand() > EPSILON_EVAL:\n",
        "                state = np.reshape(state, (-1, HEIGHT, WIDTH, CHANNEL))\n",
        "                action = np.argmax(eval_model.predict(state)[0])\n",
        "            else:\n",
        "                action = np.random.randint(low = 0, high = N_OUT - 1, size = None, dtype = 'int')\n",
        "\n",
        "            # get next state\n",
        "            next_state, reward, done, info = env.step(action)\n",
        "            video.append_data(env.render('rgb_array'))\n",
        "\n",
        "            # iteration\n",
        "            state = next_state"
      ],
      "execution_count": 59,
      "outputs": [
        {
          "output_type": "stream",
          "text": [
            "WARNING:root:IMAGEIO FFMPEG_WRITER WARNING: input image is not divisible by macro_block_size=16, resizing from (210, 160) to (224, 160) to ensure video compatibility with most codecs and players. To prevent resizing, make your input image divisible by the macro_block_size or set the macro_block_size to None (risking incompatibility). You may also see a FFMPEG warning concerning speedloss due to data not being aligned.\n"
          ],
          "name": "stderr"
        }
      ]
    },
    {
      "cell_type": "code",
      "metadata": {
        "id": "lLO2QtTOEM8z",
        "colab_type": "code",
        "colab": {}
      },
      "source": [
        "# ## debug plot\n",
        "\n",
        "# episode = range(0, EPISODES, 1)\n",
        "# print(len(episode))\n",
        "# print(len(ep_rewards))\n",
        "# print(ep_rewards)\n",
        "\n",
        "# episode = range(0, EPISODES, 1)\n",
        "# plt.plot(episode, ep_rewards)\n",
        "# plt.ylabel(\"total rewards per episode\")\n",
        "# plt.xlabel(\"episodes\")\n",
        "# plt.title(\"DQN\")\n",
        "# plt.savefig(FIGURE_PATH)\n",
        "# plt.show()"
      ],
      "execution_count": 0,
      "outputs": []
    },
    {
      "cell_type": "code",
      "metadata": {
        "id": "kMP7IRawIsiN",
        "colab_type": "code",
        "colab": {}
      },
      "source": [
        "# ## debug model prediction\n",
        "\n",
        "# tmp = env.reset()\n",
        "# print(\"input shape:\", tmp.shape)\n",
        "\n",
        "# model = Network(height = HEIGHT, width = WIDTH, channel = CHANNEL, n_out = N_OUT)._build_model()\n",
        "# print(model.summary())\n",
        "\n",
        "# tmp = np.reshape(tmp, (-1, HEIGHT, WIDTH, CHANNEL))\n",
        "# print(tmp.shape)\n",
        "\n",
        "# pred = model.predict(tmp)[0]\n",
        "# print(pred)"
      ],
      "execution_count": 0,
      "outputs": []
    },
    {
      "cell_type": "code",
      "metadata": {
        "id": "aaRytTQCODTF",
        "colab_type": "code",
        "colab": {}
      },
      "source": [
        "# ## random policy\n",
        "\n",
        "# # initialize\n",
        "# state = env.reset()\n",
        "# action = 0\n",
        "\n",
        "# for i in range(MAX_STEP):\n",
        "#     clear_output(wait = True)\n",
        "\n",
        "#     next_state, reward, done, info = env.step(action)\n",
        "#     # draw random action\n",
        "#     action = np.random.randint(low = 0, high = 5, size = None, dtype = 'int')\n",
        "\n",
        "#     plt.figure(figsize = (6, 6))\n",
        "#     plt.imshow(next_state)\n",
        "#     plt.axis('off')\n",
        "#     print(\"step:{}, action:{}, reward:{}, done:{}\".format(i, action, reward, done))\n",
        "#     plt.show()\n",
        "#     sleep(.5)"
      ],
      "execution_count": 0,
      "outputs": []
    },
    {
      "cell_type": "code",
      "metadata": {
        "id": "0vDd_cAod5rE",
        "colab_type": "code",
        "colab": {}
      },
      "source": [
        "# ## make mp4 video file\n",
        "\n",
        "# \"\"\"\n",
        "# this code outputs mp4 file. \n",
        "# If you run this in your local PC, video file will be saved in your local directory.\n",
        "# If it's Colab, the video file \n",
        "# \"\"\"\n",
        "\n",
        "# # what's this?\n",
        "# fps = 30\n",
        "# num_episodes = 1\n",
        "\n",
        "# with imageio.get_writer(VIDEO_NAME_RANDOM, fps = fps) as video:\n",
        "#     for _ in range(num_episodes):\n",
        "#         # initialize\n",
        "#         time_step = env.reset()\n",
        "#         done = False\n",
        "#         video.append_data(env.render('rgb_array'))\n",
        "        \n",
        "#         # start episode\n",
        "#         while not done:\n",
        "#             # draw random action\n",
        "#             action = np.random.randint(low = 0, high = 5, size = None, dtype = 'int')\n",
        "#             # get next state\n",
        "#             next_state, reward, done, info = env.step(action)\n",
        "#             video.append_data(env.render('rgb_array'))\n",
        "\n",
        "# # files.download(VIDEO_NAME_RANDOM)  "
      ],
      "execution_count": 0,
      "outputs": []
    },
    {
      "cell_type": "code",
      "metadata": {
        "id": "O8tpDtcvjBVz",
        "colab_type": "code",
        "colab": {}
      },
      "source": [
        "# ## embed video in this notebook\n",
        "\n",
        "# video = open(VIDEO_NAME_RANDOM, 'rb').read()\n",
        "# print(\"Type of video:\", type(video))\n",
        "# print(\"Length of video file:\", len(video))\n",
        "\n",
        "# # encode a string using Base64, returns encoded string, used to generate URL\n",
        "# b64 = base64.b64encode(video)\n",
        "# # print(\"b64encode:\", b64)\n",
        "\n",
        "# tag = '''\n",
        "#       <video width = \"640\" height = \"480\" controls>\n",
        "#           <source src = \"data:video/mp4; base64, {0}\" type = \"video/mp4\">\n",
        "#       Your browser does not support the video tag.\n",
        "#       </video>\n",
        "#       '''.format(b64.decode())\n",
        "\n",
        "# # print(\"tag:\", tag)\n",
        "\n",
        "# IPython.display.HTML(tag)"
      ],
      "execution_count": 0,
      "outputs": []
    }
  ]
}