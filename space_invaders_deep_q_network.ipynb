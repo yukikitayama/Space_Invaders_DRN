{
  "nbformat": 4,
  "nbformat_minor": 0,
  "metadata": {
    "colab": {
      "name": "space_invaders_deep_q_network_v2.ipynb",
      "provenance": [],
      "collapsed_sections": []
    },
    "kernelspec": {
      "name": "python3",
      "display_name": "Python 3"
    },
    "accelerator": "GPU"
  },
  "cells": [
    {
      "cell_type": "code",
      "metadata": {
        "id": "w_dqV98XW5o3",
        "colab_type": "code",
        "colab": {}
      },
      "source": [
        "## install\n",
        "\n",
        "# !pip install gym[atari]"
      ],
      "execution_count": 0,
      "outputs": []
    },
    {
      "cell_type": "code",
      "metadata": {
        "id": "OQdk2si0Hrte",
        "colab_type": "code",
        "colab": {}
      },
      "source": [
        "# !pip install -U -q PyDrive\n",
        "from pydrive.auth import GoogleAuth\n",
        "from pydrive.drive import GoogleDrive\n",
        "from google.colab import auth\n",
        "from oauth2client.client import GoogleCredentials\n",
        "\n",
        "auth.authenticate_user()\n",
        "gauth = GoogleAuth()\n",
        "gauth.credentials = GoogleCredentials.get_application_default()\n",
        "drive = GoogleDrive(gauth)"
      ],
      "execution_count": 0,
      "outputs": []
    },
    {
      "cell_type": "code",
      "metadata": {
        "id": "WAI5r8MXXL5J",
        "colab_type": "code",
        "colab": {}
      },
      "source": [
        "## setup\n",
        "\n",
        "import gym\n",
        "\n",
        "import numpy as np\n",
        "from matplotlib import pyplot as plt\n",
        "import random\n",
        "from IPython.display import clear_output\n",
        "from time import sleep\n",
        "import time\n",
        "import pickle\n",
        "from google.colab import files\n",
        "\n",
        "# neural network\n",
        "from tensorflow.keras.models import Sequential, load_model\n",
        "from tensorflow.keras.layers import Dense, Flatten, Conv2D, MaxPooling2D\n",
        "import tensorflow as tf\n",
        "\n",
        "# video\n",
        "import imageio\n",
        "# embed video to notebook\n",
        "import base64\n",
        "# interactive architecture for jupyter notebook\n",
        "import IPython"
      ],
      "execution_count": 0,
      "outputs": []
    },
    {
      "cell_type": "code",
      "metadata": {
        "id": "vIdheFzxS8FM",
        "colab_type": "code",
        "colab": {}
      },
      "source": [
        "## hyperparameter\n",
        "\n",
        "MAX_LENGTH_REPLAY = 10000\n",
        "VIDEO_NAME_RANDOM = 'random_agent.mp4'\n",
        "HEIGHT = 210\n",
        "WIDTH = 160\n",
        "CHANNEL = 3\n",
        "N_OUT = 6\n",
        "LEARNING_RATE = 0.001 # learning rate in neural network optimizer\n",
        "GAMMA = 0.99 # discount factor\n",
        "EPSILON = 1.0\n",
        "EPSILON_MIN = 0.1\n",
        "# EPSILON_DECAY = 0.99\n",
        "EPSILON_DECAY = 0.999\n",
        "EPSILON_EVAL = 0.01 # epsilon-greedy method in evaluation environment\n",
        "BATCH_SIZE = 32\n",
        "TIME_STEP = 200\n",
        "MODEL_PATH = 'model.h5'\n",
        "FIGURE_PATH = 'dqn_reward.png'\n",
        "REWARD_PATH = 'rewards.sav'\n",
        "VIDEO_PATH = 'dqn_v1.mp4'\n",
        "\n",
        "EPISODES = 1000\n",
        "MONITOR_INTERVAL = 100\n",
        "EVAL_STEP = 400\n",
        "EVAL_EPISODES = 1"
      ],
      "execution_count": 0,
      "outputs": []
    },
    {
      "cell_type": "code",
      "metadata": {
        "id": "OrkHQoz_XDhA",
        "colab_type": "code",
        "outputId": "395a5de4-ab99-4f8e-ecfb-63f7c2aaa83d",
        "colab": {
          "base_uri": "https://localhost:8080/",
          "height": 518
        }
      },
      "source": [
        "## environment\n",
        "\n",
        "env = gym.make('SpaceInvaders-v0')\n",
        "env.reset()\n",
        "\n",
        "# show spec\n",
        "# Discrete(6) but action index includes 0, 1, 2, 3, 4, 5\n",
        "print(\"action space\", env.action_space)\n",
        "print(\"meaning of action space\", env.get_action_meanings())\n",
        "print(\"observation space\", env.observation_space)\n",
        "\n",
        "# show environment\n",
        "plt.figure(figsize = (8, 8))\n",
        "plt.imshow(env.render('rgb_array'))\n",
        "plt.axis('off')\n",
        "plt.show()"
      ],
      "execution_count": 67,
      "outputs": [
        {
          "output_type": "stream",
          "text": [
            "action space Discrete(6)\n",
            "meaning of action space ['NOOP', 'FIRE', 'RIGHT', 'LEFT', 'RIGHTFIRE', 'LEFTFIRE']\n",
            "observation space Box(210, 160, 3)\n"
          ],
          "name": "stdout"
        },
        {
          "output_type": "display_data",
          "data": {
            "image/png": "[encoded data removed]",
            "text/plain": [
              "<Figure size 576x576 with 1 Axes>"
            ]
          },
          "metadata": {
            "tags": []
          }
        }
      ]
    },
    {
      "cell_type": "code",
      "metadata": {
        "id": "hp7__8-1TpdV",
        "colab_type": "code",
        "colab": {}
      },
      "source": [
        "## experience replay\n",
        "\n",
        "class Replay:\n",
        "    def __init__(self):\n",
        "        self.buffer = []\n",
        "        self.length = 0\n",
        "        self.max_length = MAX_LENGTH_REPLAY\n",
        "\n",
        "    def write(self, data):\n",
        "        # if replay is full, delete the oldest (first list) and append the new\n",
        "        if self.length >= self.max_length:\n",
        "            self.buffer.pop(0)\n",
        "            self.length -= 1\n",
        "        self.buffer.append(data)\n",
        "        self.length += 1\n",
        "\n",
        "    def read(self, batch_size):\n",
        "        # at beginning buffer is almost empty, so batch is smaller than batch_size\n",
        "        # random.sample is k sample from population without replacement\n",
        "        return random.sample(population = self.buffer, k = min(batch_size, self.length))"
      ],
      "execution_count": 0,
      "outputs": []
    },
    {
      "cell_type": "code",
      "metadata": {
        "id": "eqtZn2a4TplJ",
        "colab_type": "code",
        "colab": {}
      },
      "source": [
        "## network\n",
        "\n",
        "class Network:\n",
        "    def __init__(self, height, width, channel, n_out):\n",
        "        self.height = height\n",
        "        self.width = width\n",
        "        self.channel = channel\n",
        "        self.n_out = n_out\n",
        "\n",
        "    def _build_model_1(self):\n",
        "        model = Sequential()\n",
        "        model.add(Conv2D(32, (3, 3), padding = 'same', activation = 'relu', input_shape = (self.height, self.width, self.channel,)))\n",
        "        model.add(Conv2D(32, (3, 3), activation = 'relu'))\n",
        "        model.add(MaxPooling2D(pool_size = (2, 2)))\n",
        "        model.add(Flatten())\n",
        "        model.add(Dense(32, activation = 'relu'))\n",
        "        model.add(Dense(self.n_out, activation = 'linear'))\n",
        "        optimizer = tf.keras.optimizers.RMSprop(LEARNING_RATE)\n",
        "        model.compile(loss = 'mse', optimizer = optimizer)\n",
        "        return model\n",
        "\n",
        "    def _build_model_2(self):\n",
        "        model = Sequential()\n",
        "        model.add(Conv2D(16, (4, 4), padding = 'same', activation = 'relu', \n",
        "                         input_shape = (self.height, self.width, self.channel,),\n",
        "                         strides = 3))\n",
        "        model.add(MaxPooling2D(pool_size = (4, 4)))\n",
        "        model.add(Flatten())\n",
        "        model.add(Dense(16, activation = 'relu'))\n",
        "        model.add(Dense(self.n_out, activation = 'linear'))\n",
        "        optimizer = tf.keras.optimizers.Adam(LEARNING_RATE)\n",
        "        model.compile(loss = 'mse', optimizer = optimizer)\n",
        "        return model"
      ],
      "execution_count": 0,
      "outputs": []
    },
    {
      "cell_type": "code",
      "metadata": {
        "id": "-wZyLfwVFYVB",
        "colab_type": "code",
        "colab": {}
      },
      "source": [
        "## agent\n",
        "\n",
        "class Agent:\n",
        "    def __init__(self):\n",
        "        self.height = HEIGHT\n",
        "        self.width = WIDTH\n",
        "        self.channel = CHANNEL\n",
        "        self.n_out = N_OUT\n",
        "        self.total_reward = 0\n",
        "        self.gamma = GAMMA # discount factor\n",
        "        self.epsilon = EPSILON\n",
        "        self.epsilon_min = EPSILON_MIN\n",
        "        self.epsilon_decay = EPSILON_DECAY\n",
        "        self.batch_size = BATCH_SIZE\n",
        "        self.replay_buffer = Replay()\n",
        "        # self.model = Network(self.height, self.width, self.channel, self.n_out)._build_model_1()\n",
        "        self.model = Network(self.height, self.width, self.channel, self.n_out)._build_model_2()\n",
        "\n",
        "    def gather_experience(self, last_state, action, reward, state):\n",
        "        self.replay_buffer.write((last_state, action, reward, state))\n",
        "\n",
        "    def set_total_reward(self, new_total):\n",
        "        self.total_reward = new_total\n",
        "\n",
        "    def gather_reward(self, reward):\n",
        "        self.total_reward += reward\n",
        "\n",
        "    def get_total_reward(self):\n",
        "        return self.total_reward\n",
        "\n",
        "    def decay_epsilon(self):\n",
        "        if self.epsilon > self.epsilon_min:\n",
        "            self.epsilon *= self.epsilon_decay\n",
        "\n",
        "    def reshape_state(self, state):\n",
        "        return np.reshape(state, (-1, self.height, self.width, self.channel))\n",
        "\n",
        "    def choose_action(self, state):\n",
        "        if np.random.rand() > self.epsilon:\n",
        "            state = self.reshape_state(state)\n",
        "            return np.argmax(self.model.predict(state)[0])\n",
        "        else:\n",
        "            return np.random.randint(low = 0, high = self.n_out - 1, size = None, dtype = 'int')\n",
        "\n",
        "    def update_q(self):\n",
        "\n",
        "        # checkpoint\n",
        "        # now = time.time()\n",
        "        \n",
        "        batch = self.replay_buffer.read(self.batch_size)\n",
        "\n",
        "        # checkpoint\n",
        "        # prev = now; now = time.time(); print(\"sampled batch\", round(now - prev, 2))\n",
        "\n",
        "        n = len(batch)\n",
        "\n",
        "        # extract batch\n",
        "        last_states = np.array([b[0] for b in batch])\n",
        "        actions = np.array([b[1] for b in batch])\n",
        "        rewards = np.array([b[2] for b in batch])\n",
        "        states = np.array([b[3] for b in batch])\n",
        "        done_index = [np.any(s) == False for s in states]\n",
        "\n",
        "        # checkpoint\n",
        "        # prev = now; now = time.time(); print(\"extracted batch\", round(now - prev, 2))\n",
        "\n",
        "        # predictions\n",
        "        q_lasts = self.model.predict(last_states)\n",
        "        q_these = self.model.predict(states)\n",
        "        ys = rewards + self.gamma * np.amax(q_these, axis = 1)\n",
        "        index = np.arange(0, len(q_lasts))\n",
        "        q_lasts[index, actions] = ys\n",
        "\n",
        "        if sum(done_index) > 0:\n",
        "            q_lasts[done_index, actions[done_index]] = rewards[done_index][0]\n",
        "\n",
        "        # checkpoint\n",
        "        # prev = now; now = time.time(); print(\"updated q\", round(now - prev, 2))\n",
        "\n",
        "        history = self.model.fit(last_states, q_lasts, epochs = 1, verbose = 0)\n",
        "\n",
        "        # checkpoint\n",
        "        # prev = now; now = time.time(); print(\"updated model\", round(now - prev, 2))\n",
        "\n",
        "        return history.history['loss'][0]"
      ],
      "execution_count": 0,
      "outputs": []
    },
    {
      "cell_type": "code",
      "metadata": {
        "id": "0xfr2DUDFxql",
        "colab_type": "code",
        "outputId": "08bee27d-1cf2-49b3-e523-32e197b72666",
        "colab": {
          "base_uri": "https://localhost:8080/",
          "height": 469
        }
      },
      "source": [
        "## training\n",
        "\n",
        "# If update_q spends 0.05 seconds and time step is 200, 1 episode can finish with 10 seconds. Now update_q spends 0.2 seconds\n",
        "\n",
        "start_time = time.time()\n",
        "# now = time.time()\n",
        "\n",
        "agent = Agent()\n",
        "ep_rewards = []\n",
        "loss = False\n",
        "losses = []\n",
        "\n",
        "for ep in range(EPISODES):\n",
        "    last_state = env.reset()\n",
        "    agent.set_total_reward(0)\n",
        "\n",
        "    for t in range(TIME_STEP):\n",
        "\n",
        "        # checkpoint\n",
        "        # prev = now; now = time.time(); print(\"before choose action\", round(now - prev, 2))\n",
        "\n",
        "        action = agent.choose_action(last_state)\n",
        "\n",
        "        # checkpoint\n",
        "        # prev = now; now = time.time(); print(\"choose action\", round(now - prev, 2))\n",
        "\n",
        "        state, reward, done, info = env.step(action)\n",
        "\n",
        "        if done == True:\n",
        "            state = np.zeros((1, 210, 160, 3))\n",
        "\n",
        "        agent.gather_reward(reward)\n",
        "        \n",
        "        agent.gather_experience(last_state, action, reward, state)\n",
        "\n",
        "        # checkpoint\n",
        "        # prev = now; now = time.time(); print(\"gather experience\", round(now - prev, 2))\n",
        "\n",
        "        loss = agent.update_q()\n",
        "\n",
        "        # checkpoint\n",
        "        # prev = now; now = time.time(); print(\"updated q\", round(now - prev, 2))\n",
        "\n",
        "        last_state = state\n",
        "\n",
        "        if done == True:\n",
        "            ep_rewards.append(agent.get_total_reward())\n",
        "            break\n",
        "\n",
        "    if done == False:\n",
        "        ep_rewards.append(agent.get_total_reward())\n",
        "\n",
        "    if loss:\n",
        "        losses.append(loss)\n",
        "\n",
        "    agent.decay_epsilon()\n",
        "\n",
        "    # monitoring\n",
        "    if ep % MONITOR_INTERVAL == 0:\n",
        "        print(\"episode:{}, reward:{}, epsilon:{}, time:{}\".format(ep, \n",
        "                                                                  agent.get_total_reward(),\n",
        "                                                                  np.round(agent.epsilon, decimals = 5),\n",
        "                                                                  np.round(time.time() - start_time, decimals = 0)))\n",
        "        \n",
        "agent.model.save(MODEL_PATH)\n",
        "\n",
        "episode = range(0, EPISODES, 1)\n",
        "plt.plot(episode, ep_rewards)\n",
        "plt.ylabel(\"total rewards per episode\")\n",
        "plt.xlabel(\"episodes\")\n",
        "plt.title(\"DQN\")\n",
        "plt.savefig(FIGURE_PATH)\n",
        "plt.show()\n",
        "pickle.dump(ep_rewards, open(REWARD_PATH, 'wb'))"
      ],
      "execution_count": 71,
      "outputs": [
        {
          "output_type": "stream",
          "text": [
            "episode:0, reward:35.0, epsilon:0.999, time:6.0\n",
            "episode:100, reward:15.0, epsilon:0.90389, time:486.0\n",
            "episode:200, reward:5.0, epsilon:0.81783, time:952.0\n",
            "episode:300, reward:20.0, epsilon:0.73997, time:1420.0\n",
            "episode:400, reward:60.0, epsilon:0.66952, time:1897.0\n",
            "episode:500, reward:45.0, epsilon:0.60577, time:2377.0\n",
            "episode:600, reward:30.0, epsilon:0.5481, time:2838.0\n",
            "episode:700, reward:35.0, epsilon:0.49592, time:3300.0\n",
            "episode:800, reward:55.0, epsilon:0.4487, time:3763.0\n",
            "episode:900, reward:15.0, epsilon:0.40598, time:4228.0\n"
          ],
          "name": "stdout"
        },
        {
          "output_type": "display_data",
          "data": {
            "image/png": "[encoded data removed]",
            "text/plain": [
              "<Figure size 432x288 with 1 Axes>"
            ]
          },
          "metadata": {
            "tags": []
          }
        }
      ]
    },
    {
      "cell_type": "code",
      "metadata": {
        "id": "N14E8OKmO5fN",
        "colab_type": "code",
        "outputId": "c3c66d30-fa1a-49b4-ef55-e4dacefc4190",
        "colab": {
          "base_uri": "https://localhost:8080/",
          "height": 55
        }
      },
      "source": [
        "## evaluation video\n",
        "\n",
        "\"\"\"\n",
        "this code outputs mp4 file. \n",
        "If you run this in your local PC, video file will be saved in your local directory.\n",
        "If it's Colab, the video file \n",
        "\"\"\"\n",
        "\n",
        "eval_model = load_model(MODEL_PATH)\n",
        "\n",
        "# what's this?\n",
        "fps = 30\n",
        "\n",
        "with imageio.get_writer(VIDEO_PATH, fps = fps) as video:\n",
        "    for _ in range(EVAL_EPISODES):\n",
        "        # initialize\n",
        "        state = env.reset()\n",
        "        done = False\n",
        "        video.append_data(env.render('rgb_array'))\n",
        "        \n",
        "        # start episode\n",
        "        while not done:\n",
        "            if np.random.rand() > EPSILON_EVAL:\n",
        "                state = np.reshape(state, (-1, HEIGHT, WIDTH, CHANNEL))\n",
        "                action = np.argmax(eval_model.predict(state)[0])\n",
        "            else:\n",
        "                action = np.random.randint(low = 0, high = N_OUT - 1, size = None, dtype = 'int')\n",
        "\n",
        "            # get next state\n",
        "            next_state, reward, done, info = env.step(action)\n",
        "            video.append_data(env.render('rgb_array'))\n",
        "\n",
        "            # iteration\n",
        "            state = next_state"
      ],
      "execution_count": 72,
      "outputs": [
        {
          "output_type": "stream",
          "text": [
            "WARNING:root:IMAGEIO FFMPEG_WRITER WARNING: input image is not divisible by macro_block_size=16, resizing from (210, 160) to (224, 160) to ensure video compatibility with most codecs and players. To prevent resizing, make your input image divisible by the macro_block_size or set the macro_block_size to None (risking incompatibility). You may also see a FFMPEG warning concerning speedloss due to data not being aligned.\n"
          ],
          "name": "stderr"
        }
      ]
    },
    {
      "cell_type": "code",
      "metadata": {
        "id": "VkU4u4IIHMUg",
        "colab_type": "code",
        "colab": {
          "base_uri": "https://localhost:8080/",
          "height": 540
        },
        "outputId": "264b481e-5165-46aa-fbac-b82f21449561"
      },
      "source": [
        "# Create & upload a file.\n",
        "uploaded = drive.CreateFile({'title': 'dqn_v1.mp4'})\n",
        "uploaded.SetContentFile('dqn_v1.mp4')\n",
        "uploaded.Upload()\n",
        "print('Uploaded file with ID {}'.format(uploaded.get('id')))"
      ],
      "execution_count": 76,
      "outputs": [
        {
          "output_type": "stream",
          "text": [
            "WARNING:googleapiclient.discovery_cache:file_cache is unavailable when using oauth2client >= 4.0.0 or google-auth\n",
            "Traceback (most recent call last):\n",
            "  File \"/usr/local/lib/python3.6/dist-packages/googleapiclient/discovery_cache/__init__.py\", line 36, in autodetect\n",
            "    from google.appengine.api import memcache\n",
            "ModuleNotFoundError: No module named 'google.appengine'\n",
            "\n",
            "During handling of the above exception, another exception occurred:\n",
            "\n",
            "Traceback (most recent call last):\n",
            "  File \"/usr/local/lib/python3.6/dist-packages/googleapiclient/discovery_cache/file_cache.py\", line 33, in <module>\n",
            "    from oauth2client.contrib.locked_file import LockedFile\n",
            "ModuleNotFoundError: No module named 'oauth2client.contrib.locked_file'\n",
            "\n",
            "During handling of the above exception, another exception occurred:\n",
            "\n",
            "Traceback (most recent call last):\n",
            "  File \"/usr/local/lib/python3.6/dist-packages/googleapiclient/discovery_cache/file_cache.py\", line 37, in <module>\n",
            "    from oauth2client.locked_file import LockedFile\n",
            "ModuleNotFoundError: No module named 'oauth2client.locked_file'\n",
            "\n",
            "During handling of the above exception, another exception occurred:\n",
            "\n",
            "Traceback (most recent call last):\n",
            "  File \"/usr/local/lib/python3.6/dist-packages/googleapiclient/discovery_cache/__init__.py\", line 41, in autodetect\n",
            "    from . import file_cache\n",
            "  File \"/usr/local/lib/python3.6/dist-packages/googleapiclient/discovery_cache/file_cache.py\", line 41, in <module>\n",
            "    'file_cache is unavailable when using oauth2client >= 4.0.0 or google-auth')\n",
            "ImportError: file_cache is unavailable when using oauth2client >= 4.0.0 or google-auth\n"
          ],
          "name": "stderr"
        },
        {
          "output_type": "stream",
          "text": [
            "Uploaded file with ID 1CsyInKwUTVn-Pb1Lycx47S6bIDHD8v8k\n"
          ],
          "name": "stdout"
        }
      ]
    },
    {
      "cell_type": "code",
      "metadata": {
        "id": "5o0Th2GGIIUl",
        "colab_type": "code",
        "colab": {
          "base_uri": "https://localhost:8080/",
          "height": 35
        },
        "outputId": "bfc2d4c6-305a-493c-eb42-de1cbfafc251"
      },
      "source": [
        "# Create & upload a file.\n",
        "uploaded = drive.CreateFile({'title': 'model.h5'})\n",
        "uploaded.SetContentFile('model.h5')\n",
        "uploaded.Upload()\n",
        "print('Uploaded file with ID {}'.format(uploaded.get('id')))"
      ],
      "execution_count": 77,
      "outputs": [
        {
          "output_type": "stream",
          "text": [
            "Uploaded file with ID 1F0DqLOOIEcWkntO2RSHs4FoFB55wGa3b\n"
          ],
          "name": "stdout"
        }
      ]
    },
    {
      "cell_type": "code",
      "metadata": {
        "id": "6v8o5R_ILf6B",
        "colab_type": "code",
        "colab": {}
      },
      "source": [
        "# ## evaluation picture story show\n",
        "\n",
        "# eval_model = load_model(MODEL_PATH)\n",
        "\n",
        "# state = env.reset()\n",
        "\n",
        "# for i in range(EVAL_STEP):\n",
        "#     clear_output(wait = True)\n",
        "\n",
        "#     if np.random.rand() > EPSILON_EVAL:\n",
        "#         state = np.reshape(state, (-1, HEIGHT, WIDTH, CHANNEL))\n",
        "#         action = np.argmax(eval_model.predict(state)[0])\n",
        "#     else:\n",
        "#         action = np.random.randint(low = 0, high = N_OUT - 1, size = None, dtype = 'int')\n",
        "\n",
        "#     next_state, reward, done, info = env.step(action)\n",
        "    \n",
        "#     plt.figure(figsize = (6, 6))\n",
        "#     plt.imshow(next_state)\n",
        "#     plt.axis('off')\n",
        "\n",
        "#     print(\"step:{}, action:{}, reward:{}, done:{}\".format(i, action, reward, done))\n",
        "#     plt.show()\n",
        "#     sleep(.5)"
      ],
      "execution_count": 0,
      "outputs": []
    },
    {
      "cell_type": "code",
      "metadata": {
        "id": "h78G2CIRK80F",
        "colab_type": "code",
        "colab": {}
      },
      "source": [
        "# ## Improve time by modifying experience replay\n",
        "\n",
        "# ## agent 2\n",
        "\n",
        "# class Agent:\n",
        "#     def __init__(self):\n",
        "#         self.height = HEIGHT\n",
        "#         self.width = WIDTH\n",
        "#         self.channel = CHANNEL\n",
        "#         self.n_out = N_OUT\n",
        "#         self.total_reward = 0\n",
        "#         self.gamma = GAMMA # discount factor\n",
        "#         self.epsilon = EPSILON\n",
        "#         self.epsilon_min = EPSILON_MIN\n",
        "#         self.epsilon_decay = EPSILON_DECAY\n",
        "#         self.batch_size = BATCH_SIZE\n",
        "#         self.replay_buffer = Replay()\n",
        "#         self.model = Network(self.height, self.width, self.channel, self.n_out)._build_model()\n",
        "\n",
        "#     # def gather_experience(self, last_state, action, reward, state):\n",
        "#         # self.replay_buffer.write((last_state, action, reward, state))\n",
        "\n",
        "#     # under developing\n",
        "#     def gather_experience(self, last_state, action, reward, state):\n",
        "#         data = np.array([[last_state, action, reward, state]])\n",
        "#         self.replay_buffer.write(data)\n",
        "\n",
        "#     def set_total_reward(self, new_total):\n",
        "#         self.total_reward = new_total\n",
        "\n",
        "#     def gather_reward(self, reward):\n",
        "#         self.total_reward += reward\n",
        "\n",
        "#     def get_total_reward(self):\n",
        "#         return self.total_reward\n",
        "\n",
        "#     def decay_epsilon(self):\n",
        "#         if self.epsilon > self.epsilon_min:\n",
        "#             self.epsilon *= self.epsilon_decay\n",
        "\n",
        "#     def reshape_state(self, state):\n",
        "#         return np.reshape(state, (-1, self.height, self.width, self.channel))\n",
        "\n",
        "#     def choose_action(self, state):\n",
        "#         if np.random.rand() > self.epsilon:\n",
        "#             state = self.reshape_state(state)\n",
        "#             return np.argmax(self.model.predict(state)[0])\n",
        "#         else:\n",
        "#             return np.random.randint(low = 0, high = self.n_out - 1, size = None, dtype = 'int')\n",
        "\n",
        "#     # def update_q(self):\n",
        "#     def update_q(self, now):\n",
        "#         batch = self.replay_buffer.read(self.batch_size)\n",
        "#         n = len(batch)\n",
        "\n",
        "#         # checkpoint\n",
        "#         # prev = now; now = time.time(); print(\"read batch\", round(now - prev, 2))\n",
        "\n",
        "#         x_batch = np.zeros([n, self.height, self.width, self.channel])\n",
        "#         y_batch = np.zeros([n, self.n_out])\n",
        "\n",
        "#         i = 0\n",
        "\n",
        "#         for b in batch:\n",
        "#             last_state, action, reward, state = b\n",
        "#             last_state = self.reshape_state(last_state)\n",
        "#             q_last = self.model.predict(last_state)[0]\n",
        "\n",
        "#             # checkpoint\n",
        "#             # prev = now; now = time.time(); print(\"calculate q_last\", round(now - prev, 2))\n",
        "\n",
        "#             if state is None:\n",
        "#                 q_last[action] = reward\n",
        "#             else:\n",
        "#                 state = self.reshape_state(state)\n",
        "#                 q_this = self.model.predict(state)[0]\n",
        "#                 y = reward + self.gamma * np.max(q_this)\n",
        "#                 q_last[action] = y\n",
        "\n",
        "#             # checkpoint\n",
        "#             # prev = now; now = time.time(); print(\"update q_last\", round(now - prev, 2))\n",
        "            \n",
        "#             x_batch[i, :] = last_state\n",
        "#             y_batch[i, :] = q_last\n",
        "#             i + 1\n",
        "        \n",
        "#         # checkpoint\n",
        "#         prev = now; now = time.time(); print(\"finish q loop\", round(now - prev, 2))\n",
        "\n",
        "#         history = self.model.fit(x_batch, y_batch, epochs = 1, verbose = 0)\n",
        "\n",
        "#         # checkpoint\n",
        "#         prev = now; now = time.time(); print(\"train model\", round(now - prev, 2))\n",
        "\n",
        "#         return history.history['loss'][0]"
      ],
      "execution_count": 0,
      "outputs": []
    },
    {
      "cell_type": "code",
      "metadata": {
        "id": "lBnCyJZtQQqe",
        "colab_type": "code",
        "colab": {}
      },
      "source": [
        "# class Replay:\n",
        "#     def __init__(self):\n",
        "#         self.buffer = False\n",
        "#         self.length = 0\n",
        "#         self.max_length = MAX_LENGTH_REPLAY\n",
        "\n",
        "#     def write(self, data):\n",
        "#         if self.buffer == False:\n",
        "#             self.buffer = data\n",
        "#             self.length = 1\n",
        "#         elif self.length > 0 and self.length < self.max_length:\n",
        "#             self.buffer = np.append(self.buffer, data, axis = 0)\n",
        "#             self.length = len(self.buffer)\n",
        "#         elif self.length >= self.max_length:\n",
        "#             np.delete(arr = self.buffer, obj = 0, axis = 0)\n",
        "#             self.buffer = np.append(self.buffer, data, axis = 0)\n",
        "\n",
        "#     def read(self, batch_size):\n",
        "#         # at beginning buffer is almost empty, so batch is smaller than batch_size\n",
        "#         index = np.random.choice(a = self.length, size = min(batch_size, self.length), replace = False)\n",
        "#         return self.buffer[index, :]"
      ],
      "execution_count": 0,
      "outputs": []
    },
    {
      "cell_type": "code",
      "metadata": {
        "id": "lcpKnltTXp18",
        "colab_type": "code",
        "colab": {}
      },
      "source": [
        "# last_state = env.reset()\n",
        "# last_state.shape"
      ],
      "execution_count": 0,
      "outputs": []
    },
    {
      "cell_type": "code",
      "metadata": {
        "id": "lSa7YlEgMP-j",
        "colab_type": "code",
        "colab": {}
      },
      "source": [
        "# ## batch to improve time\n",
        "\n",
        "# replay_buffer = Replay()\n",
        "# last_state = env.reset()\n",
        "\n",
        "# for _ in range(5):\n",
        "\n",
        "#     action = np.random.randint(low = 0, high = N_OUT - 1, size = None, dtype = 'int')\n",
        "#     state, reward, done, info = env.step(action)\n",
        "#     replay_buffer.write(np.array([[last_state, action, reward, state]]))\n",
        "#     last_state = state"
      ],
      "execution_count": 0,
      "outputs": []
    },
    {
      "cell_type": "code",
      "metadata": {
        "id": "zL6muYPzYmGQ",
        "colab_type": "code",
        "colab": {}
      },
      "source": [
        "# replay_buffer.buffer.shape"
      ],
      "execution_count": 0,
      "outputs": []
    },
    {
      "cell_type": "code",
      "metadata": {
        "id": "tnLml9k9Ox9O",
        "colab_type": "code",
        "colab": {}
      },
      "source": [
        "# ## improve time\n",
        "\n",
        "# batch = replay_buffer.read(BATCH_SIZE)\n",
        "# n = len(batch)\n",
        "# print(n)\n",
        "# print(batch.shape)\n",
        "# print(batch[:, 0].shape)\n",
        "# print(type(batch[:, 0]))\n",
        "\n",
        "\n",
        "# ## original\n",
        "#         # for b in batch:\n",
        "#         #     last_state, action, reward, state = b\n",
        "#         #     last_state = self.reshape_state(last_state)\n",
        "#         #     q_last = self.model.predict(last_state)[0]\n",
        "\n",
        "#         #     # checkpoint\n",
        "#         #     # prev = now; now = time.time(); print(\"calculate q_last\", round(now - prev, 2))\n",
        "\n",
        "#         #     if state is None:\n",
        "#         #         q_last[action] = reward\n",
        "#         #     else:\n",
        "#         #         state = self.reshape_state(state)\n",
        "#         #         q_this = self.model.predict(state)[0]\n",
        "#         #         y = reward + self.gamma * np.max(q_this)\n",
        "#         #         q_last[action] = y\n",
        "\n",
        "#         #     # checkpoint\n",
        "#         #     # prev = now; now = time.time(); print(\"update q_last\", round(now - prev, 2))\n",
        "            \n",
        "#         #     x_batch[i, :] = last_state\n",
        "#         #     y_batch[i, :] = q_last\n",
        "#         #     i + 1"
      ],
      "execution_count": 0,
      "outputs": []
    },
    {
      "cell_type": "code",
      "metadata": {
        "id": "m2uJbaC8Qyvv",
        "colab_type": "code",
        "colab": {}
      },
      "source": [
        "# ## debug replay buffer\n",
        "\n",
        "# last_state = env.reset()\n",
        "# action = np.random.randint(low = 0, high = N_OUT - 1, size = None, dtype = 'int')\n",
        "# state, reward, done, info = env.step(action)\n",
        "\n",
        "# buffer = np.array([[last_state, action, reward, state]])\n",
        "\n",
        "# last_state = env.reset()\n",
        "# action = np.random.randint(low = 0, high = N_OUT - 1, size = None, dtype = 'int')\n",
        "# state, reward, done, info = env.step(action)\n",
        "\n",
        "# data = np.array([[last_state, action, reward, state]])\n",
        "\n",
        "# tmp = np.append(buffer, data, axis = 0)\n",
        "\n",
        "# tmp.shape\n",
        "\n",
        "# # print(\"tmp[0, :]\", tmp[0, :])\n",
        "# print(tmp[:, 0].shape)\n",
        "# print(tmp[0, 0].shape)"
      ],
      "execution_count": 0,
      "outputs": []
    },
    {
      "cell_type": "code",
      "metadata": {
        "id": "lLO2QtTOEM8z",
        "colab_type": "code",
        "colab": {}
      },
      "source": [
        "# ## debug plot\n",
        "\n",
        "# episode = range(0, EPISODES, 1)\n",
        "# print(len(episode))\n",
        "# print(len(ep_rewards))\n",
        "# print(ep_rewards)\n",
        "\n",
        "# episode = range(0, EPISODES, 1)\n",
        "# plt.plot(episode, ep_rewards)\n",
        "# plt.ylabel(\"total rewards per episode\")\n",
        "# plt.xlabel(\"episodes\")\n",
        "# plt.title(\"DQN\")\n",
        "# plt.savefig(FIGURE_PATH)\n",
        "# plt.show()"
      ],
      "execution_count": 0,
      "outputs": []
    },
    {
      "cell_type": "code",
      "metadata": {
        "id": "kMP7IRawIsiN",
        "colab_type": "code",
        "colab": {}
      },
      "source": [
        "# ## debug model prediction\n",
        "\n",
        "# tmp = env.reset()\n",
        "# print(\"input shape:\", tmp.shape)\n",
        "\n",
        "# model = Network(height = HEIGHT, width = WIDTH, channel = CHANNEL, n_out = N_OUT)._build_model()\n",
        "# print(model.summary())\n",
        "\n",
        "# tmp = np.reshape(tmp, (-1, HEIGHT, WIDTH, CHANNEL))\n",
        "# print(tmp.shape)\n",
        "\n",
        "# pred = model.predict(tmp)[0]\n",
        "# print(pred)"
      ],
      "execution_count": 0,
      "outputs": []
    },
    {
      "cell_type": "code",
      "metadata": {
        "id": "0vDd_cAod5rE",
        "colab_type": "code",
        "colab": {}
      },
      "source": [
        "# ## make mp4 video file\n",
        "\n",
        "# \"\"\"\n",
        "# this code outputs mp4 file. \n",
        "# If you run this in your local PC, video file will be saved in your local directory.\n",
        "# If it's Colab, the video file \n",
        "# \"\"\"\n",
        "\n",
        "# # what's this?\n",
        "# fps = 30\n",
        "# num_episodes = 1\n",
        "\n",
        "# with imageio.get_writer(VIDEO_NAME_RANDOM, fps = fps) as video:\n",
        "#     for _ in range(num_episodes):\n",
        "#         # initialize\n",
        "#         time_step = env.reset()\n",
        "#         done = False\n",
        "#         video.append_data(env.render('rgb_array'))\n",
        "        \n",
        "#         # start episode\n",
        "#         while not done:\n",
        "#             # draw random action\n",
        "#             action = np.random.randint(low = 0, high = 5, size = None, dtype = 'int')\n",
        "#             # get next state\n",
        "#             next_state, reward, done, info = env.step(action)\n",
        "#             video.append_data(env.render('rgb_array'))\n",
        "\n",
        "# # files.download(VIDEO_NAME_RANDOM)  "
      ],
      "execution_count": 0,
      "outputs": []
    },
    {
      "cell_type": "code",
      "metadata": {
        "id": "O8tpDtcvjBVz",
        "colab_type": "code",
        "colab": {}
      },
      "source": [
        "# ## embed video in this notebook\n",
        "\n",
        "# video = open(VIDEO_NAME_RANDOM, 'rb').read()\n",
        "# print(\"Type of video:\", type(video))\n",
        "# print(\"Length of video file:\", len(video))\n",
        "\n",
        "# # encode a string using Base64, returns encoded string, used to generate URL\n",
        "# b64 = base64.b64encode(video)\n",
        "# # print(\"b64encode:\", b64)\n",
        "\n",
        "# tag = '''\n",
        "#       <video width = \"640\" height = \"480\" controls>\n",
        "#           <source src = \"data:video/mp4; base64, {0}\" type = \"video/mp4\">\n",
        "#       Your browser does not support the video tag.\n",
        "#       </video>\n",
        "#       '''.format(b64.decode())\n",
        "\n",
        "# # print(\"tag:\", tag)\n",
        "\n",
        "# IPython.display.HTML(tag)"
      ],
      "execution_count": 0,
      "outputs": []
    }
  ]
}